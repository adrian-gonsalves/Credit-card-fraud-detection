{
 "cells": [
  {
   "cell_type": "code",
   "execution_count": 1,
   "metadata": {},
   "outputs": [],
   "source": [
    "# import libraries\n",
    "import pandas as pd\n",
    "import numpy as np\n",
    "import matplotlib.pyplot as plt\n",
    "import seaborn as sns\n",
    "\n",
    "import warnings\n",
    "warnings.filterwarnings('ignore')"
   ]
  },
  {
   "cell_type": "code",
   "execution_count": 2,
   "metadata": {},
   "outputs": [],
   "source": [
    "# read the data\n",
    "df = pd.read_csv(\"creditcard.csv\")"
   ]
  },
  {
   "cell_type": "code",
   "execution_count": 3,
   "metadata": {},
   "outputs": [
    {
     "data": {
      "text/html": [
       "<div>\n",
       "<style scoped>\n",
       "    .dataframe tbody tr th:only-of-type {\n",
       "        vertical-align: middle;\n",
       "    }\n",
       "\n",
       "    .dataframe tbody tr th {\n",
       "        vertical-align: top;\n",
       "    }\n",
       "\n",
       "    .dataframe thead th {\n",
       "        text-align: right;\n",
       "    }\n",
       "</style>\n",
       "<table border=\"1\" class=\"dataframe\">\n",
       "  <thead>\n",
       "    <tr style=\"text-align: right;\">\n",
       "      <th></th>\n",
       "      <th>Time</th>\n",
       "      <th>V1</th>\n",
       "      <th>V2</th>\n",
       "      <th>V3</th>\n",
       "      <th>V4</th>\n",
       "      <th>V5</th>\n",
       "      <th>V6</th>\n",
       "      <th>V7</th>\n",
       "      <th>V8</th>\n",
       "      <th>V9</th>\n",
       "      <th>...</th>\n",
       "      <th>V21</th>\n",
       "      <th>V22</th>\n",
       "      <th>V23</th>\n",
       "      <th>V24</th>\n",
       "      <th>V25</th>\n",
       "      <th>V26</th>\n",
       "      <th>V27</th>\n",
       "      <th>V28</th>\n",
       "      <th>Amount</th>\n",
       "      <th>Class</th>\n",
       "    </tr>\n",
       "  </thead>\n",
       "  <tbody>\n",
       "    <tr>\n",
       "      <th>0</th>\n",
       "      <td>0.0</td>\n",
       "      <td>-1.359807</td>\n",
       "      <td>-0.072781</td>\n",
       "      <td>2.536347</td>\n",
       "      <td>1.378155</td>\n",
       "      <td>-0.338321</td>\n",
       "      <td>0.462388</td>\n",
       "      <td>0.239599</td>\n",
       "      <td>0.098698</td>\n",
       "      <td>0.363787</td>\n",
       "      <td>...</td>\n",
       "      <td>-0.018307</td>\n",
       "      <td>0.277838</td>\n",
       "      <td>-0.110474</td>\n",
       "      <td>0.066928</td>\n",
       "      <td>0.128539</td>\n",
       "      <td>-0.189115</td>\n",
       "      <td>0.133558</td>\n",
       "      <td>-0.021053</td>\n",
       "      <td>149.62</td>\n",
       "      <td>0</td>\n",
       "    </tr>\n",
       "    <tr>\n",
       "      <th>1</th>\n",
       "      <td>0.0</td>\n",
       "      <td>1.191857</td>\n",
       "      <td>0.266151</td>\n",
       "      <td>0.166480</td>\n",
       "      <td>0.448154</td>\n",
       "      <td>0.060018</td>\n",
       "      <td>-0.082361</td>\n",
       "      <td>-0.078803</td>\n",
       "      <td>0.085102</td>\n",
       "      <td>-0.255425</td>\n",
       "      <td>...</td>\n",
       "      <td>-0.225775</td>\n",
       "      <td>-0.638672</td>\n",
       "      <td>0.101288</td>\n",
       "      <td>-0.339846</td>\n",
       "      <td>0.167170</td>\n",
       "      <td>0.125895</td>\n",
       "      <td>-0.008983</td>\n",
       "      <td>0.014724</td>\n",
       "      <td>2.69</td>\n",
       "      <td>0</td>\n",
       "    </tr>\n",
       "    <tr>\n",
       "      <th>2</th>\n",
       "      <td>1.0</td>\n",
       "      <td>-1.358354</td>\n",
       "      <td>-1.340163</td>\n",
       "      <td>1.773209</td>\n",
       "      <td>0.379780</td>\n",
       "      <td>-0.503198</td>\n",
       "      <td>1.800499</td>\n",
       "      <td>0.791461</td>\n",
       "      <td>0.247676</td>\n",
       "      <td>-1.514654</td>\n",
       "      <td>...</td>\n",
       "      <td>0.247998</td>\n",
       "      <td>0.771679</td>\n",
       "      <td>0.909412</td>\n",
       "      <td>-0.689281</td>\n",
       "      <td>-0.327642</td>\n",
       "      <td>-0.139097</td>\n",
       "      <td>-0.055353</td>\n",
       "      <td>-0.059752</td>\n",
       "      <td>378.66</td>\n",
       "      <td>0</td>\n",
       "    </tr>\n",
       "    <tr>\n",
       "      <th>3</th>\n",
       "      <td>1.0</td>\n",
       "      <td>-0.966272</td>\n",
       "      <td>-0.185226</td>\n",
       "      <td>1.792993</td>\n",
       "      <td>-0.863291</td>\n",
       "      <td>-0.010309</td>\n",
       "      <td>1.247203</td>\n",
       "      <td>0.237609</td>\n",
       "      <td>0.377436</td>\n",
       "      <td>-1.387024</td>\n",
       "      <td>...</td>\n",
       "      <td>-0.108300</td>\n",
       "      <td>0.005274</td>\n",
       "      <td>-0.190321</td>\n",
       "      <td>-1.175575</td>\n",
       "      <td>0.647376</td>\n",
       "      <td>-0.221929</td>\n",
       "      <td>0.062723</td>\n",
       "      <td>0.061458</td>\n",
       "      <td>123.50</td>\n",
       "      <td>0</td>\n",
       "    </tr>\n",
       "    <tr>\n",
       "      <th>4</th>\n",
       "      <td>2.0</td>\n",
       "      <td>-1.158233</td>\n",
       "      <td>0.877737</td>\n",
       "      <td>1.548718</td>\n",
       "      <td>0.403034</td>\n",
       "      <td>-0.407193</td>\n",
       "      <td>0.095921</td>\n",
       "      <td>0.592941</td>\n",
       "      <td>-0.270533</td>\n",
       "      <td>0.817739</td>\n",
       "      <td>...</td>\n",
       "      <td>-0.009431</td>\n",
       "      <td>0.798278</td>\n",
       "      <td>-0.137458</td>\n",
       "      <td>0.141267</td>\n",
       "      <td>-0.206010</td>\n",
       "      <td>0.502292</td>\n",
       "      <td>0.219422</td>\n",
       "      <td>0.215153</td>\n",
       "      <td>69.99</td>\n",
       "      <td>0</td>\n",
       "    </tr>\n",
       "  </tbody>\n",
       "</table>\n",
       "<p>5 rows × 31 columns</p>\n",
       "</div>"
      ],
      "text/plain": [
       "   Time        V1        V2        V3        V4        V5        V6        V7  \\\n",
       "0   0.0 -1.359807 -0.072781  2.536347  1.378155 -0.338321  0.462388  0.239599   \n",
       "1   0.0  1.191857  0.266151  0.166480  0.448154  0.060018 -0.082361 -0.078803   \n",
       "2   1.0 -1.358354 -1.340163  1.773209  0.379780 -0.503198  1.800499  0.791461   \n",
       "3   1.0 -0.966272 -0.185226  1.792993 -0.863291 -0.010309  1.247203  0.237609   \n",
       "4   2.0 -1.158233  0.877737  1.548718  0.403034 -0.407193  0.095921  0.592941   \n",
       "\n",
       "         V8        V9  ...       V21       V22       V23       V24       V25  \\\n",
       "0  0.098698  0.363787  ... -0.018307  0.277838 -0.110474  0.066928  0.128539   \n",
       "1  0.085102 -0.255425  ... -0.225775 -0.638672  0.101288 -0.339846  0.167170   \n",
       "2  0.247676 -1.514654  ...  0.247998  0.771679  0.909412 -0.689281 -0.327642   \n",
       "3  0.377436 -1.387024  ... -0.108300  0.005274 -0.190321 -1.175575  0.647376   \n",
       "4 -0.270533  0.817739  ... -0.009431  0.798278 -0.137458  0.141267 -0.206010   \n",
       "\n",
       "        V26       V27       V28  Amount  Class  \n",
       "0 -0.189115  0.133558 -0.021053  149.62      0  \n",
       "1  0.125895 -0.008983  0.014724    2.69      0  \n",
       "2 -0.139097 -0.055353 -0.059752  378.66      0  \n",
       "3 -0.221929  0.062723  0.061458  123.50      0  \n",
       "4  0.502292  0.219422  0.215153   69.99      0  \n",
       "\n",
       "[5 rows x 31 columns]"
      ]
     },
     "execution_count": 3,
     "metadata": {},
     "output_type": "execute_result"
    }
   ],
   "source": [
    "# display the data\n",
    "df.head()"
   ]
  },
  {
   "cell_type": "code",
   "execution_count": 4,
   "metadata": {},
   "outputs": [
    {
     "name": "stdout",
     "output_type": "stream",
     "text": [
      "<class 'pandas.core.frame.DataFrame'>\n",
      "RangeIndex: 284807 entries, 0 to 284806\n",
      "Data columns (total 31 columns):\n",
      " #   Column  Non-Null Count   Dtype  \n",
      "---  ------  --------------   -----  \n",
      " 0   Time    284807 non-null  float64\n",
      " 1   V1      284807 non-null  float64\n",
      " 2   V2      284807 non-null  float64\n",
      " 3   V3      284807 non-null  float64\n",
      " 4   V4      284807 non-null  float64\n",
      " 5   V5      284807 non-null  float64\n",
      " 6   V6      284807 non-null  float64\n",
      " 7   V7      284807 non-null  float64\n",
      " 8   V8      284807 non-null  float64\n",
      " 9   V9      284807 non-null  float64\n",
      " 10  V10     284807 non-null  float64\n",
      " 11  V11     284807 non-null  float64\n",
      " 12  V12     284807 non-null  float64\n",
      " 13  V13     284807 non-null  float64\n",
      " 14  V14     284807 non-null  float64\n",
      " 15  V15     284807 non-null  float64\n",
      " 16  V16     284807 non-null  float64\n",
      " 17  V17     284807 non-null  float64\n",
      " 18  V18     284807 non-null  float64\n",
      " 19  V19     284807 non-null  float64\n",
      " 20  V20     284807 non-null  float64\n",
      " 21  V21     284807 non-null  float64\n",
      " 22  V22     284807 non-null  float64\n",
      " 23  V23     284807 non-null  float64\n",
      " 24  V24     284807 non-null  float64\n",
      " 25  V25     284807 non-null  float64\n",
      " 26  V26     284807 non-null  float64\n",
      " 27  V27     284807 non-null  float64\n",
      " 28  V28     284807 non-null  float64\n",
      " 29  Amount  284807 non-null  float64\n",
      " 30  Class   284807 non-null  int64  \n",
      "dtypes: float64(30), int64(1)\n",
      "memory usage: 67.4 MB\n"
     ]
    }
   ],
   "source": [
    "df.info()"
   ]
  },
  {
   "cell_type": "code",
   "execution_count": 5,
   "metadata": {},
   "outputs": [],
   "source": [
    "# calculate the % of fraud\n",
    "classes = df['Class'].value_counts()\n",
    "normal_share = classes[0]/len(df['Class'])*100\n",
    "fraud_share = classes[1]/len(df['Class'])*100"
   ]
  },
  {
   "cell_type": "code",
   "execution_count": 6,
   "metadata": {},
   "outputs": [
    {
     "data": {
      "image/png": "[encoded data removed]",
      "text/plain": [
       "<Figure size 432x288 with 1 Axes>"
      ]
     },
     "metadata": {
      "needs_background": "light"
     },
     "output_type": "display_data"
    }
   ],
   "source": [
    "# plotting % fraud\n",
    "plt.bar(['Non-Fraud','Fraud'], classes, color=['g','r'])\n",
    "plt.ylabel('Number of transactions')\n",
    "plt.annotate(\"{0:.4}%\".format(normal_share),(0.2, 0.5), xycoords='axes fraction')\n",
    "plt.annotate(\"{0:.4}%\".format(fraud_share),(0.7, 0.5), xycoords='axes fraction')\n",
    "plt.show()"
   ]
  },
  {
   "cell_type": "code",
   "execution_count": 7,
   "metadata": {},
   "outputs": [],
   "source": [
    "# drop the Time column\n",
    "\n",
    "df.drop('Time', axis=1, inplace=True)"
   ]
  },
  {
   "cell_type": "markdown",
   "metadata": {},
   "source": [
    "We drop the Time column since it does not provide any insight as it is just time from the 1st transaction in the data set."
   ]
  },
  {
   "cell_type": "code",
   "execution_count": 8,
   "metadata": {},
   "outputs": [],
   "source": [
    "y = df['Class']\n",
    "X = df.drop('Class', axis=1)"
   ]
  },
  {
   "cell_type": "markdown",
   "metadata": {},
   "source": [
    "## Split data into train and test"
   ]
  },
  {
   "cell_type": "code",
   "execution_count": 9,
   "metadata": {},
   "outputs": [],
   "source": [
    "from sklearn.model_selection import train_test_split\n",
    "\n",
    "x_train, x_test, y_train, y_test = train_test_split(X, y, stratify=y, random_state=21)"
   ]
  },
  {
   "cell_type": "markdown",
   "metadata": {},
   "source": [
    "# Model building"
   ]
  },
  {
   "cell_type": "code",
   "execution_count": 10,
   "metadata": {},
   "outputs": [],
   "source": [
    "from sklearn.model_selection import GridSearchCV, StratifiedKFold"
   ]
  },
  {
   "cell_type": "markdown",
   "metadata": {},
   "source": [
    "### Logistic Regression with imbalance data"
   ]
  },
  {
   "cell_type": "code",
   "execution_count": 11,
   "metadata": {},
   "outputs": [],
   "source": [
    "# logistic regression\n",
    "from sklearn.linear_model import LogisticRegression\n",
    "\n",
    "logistic_clf = LogisticRegression(random_state = 21)\n",
    "\n",
    "params = {'C': [0.001, 0.01, 0.1, 1.0, 10.0, 100.0, 1000.0]}\n",
    "\n",
    "\n",
    "logistic_model = GridSearchCV(estimator=logistic_clf, \n",
    "                              param_grid=params, \n",
    "                              n_jobs=-1, \n",
    "                              cv=3, \n",
    "                              scoring='roc_auc', \n",
    "                              verbose=1)"
   ]
  },
  {
   "cell_type": "code",
   "execution_count": 12,
   "metadata": {},
   "outputs": [
    {
     "name": "stdout",
     "output_type": "stream",
     "text": [
      "Fitting 3 folds for each of 7 candidates, totalling 21 fits\n"
     ]
    },
    {
     "data": {
      "text/plain": [
       "GridSearchCV(cv=3, estimator=LogisticRegression(random_state=21), n_jobs=-1,\n",
       "             param_grid={'C': [0.001, 0.01, 0.1, 1.0, 10.0, 100.0, 1000.0]},\n",
       "             scoring='roc_auc', verbose=1)"
      ]
     },
     "execution_count": 12,
     "metadata": {},
     "output_type": "execute_result"
    }
   ],
   "source": [
    "# fit the model\n",
    "logistic_model.fit(x_train, y_train)"
   ]
  },
  {
   "cell_type": "code",
   "execution_count": 13,
   "metadata": {},
   "outputs": [
    {
     "data": {
      "text/html": [
       "<div>\n",
       "<style scoped>\n",
       "    .dataframe tbody tr th:only-of-type {\n",
       "        vertical-align: middle;\n",
       "    }\n",
       "\n",
       "    .dataframe tbody tr th {\n",
       "        vertical-align: top;\n",
       "    }\n",
       "\n",
       "    .dataframe thead th {\n",
       "        text-align: right;\n",
       "    }\n",
       "</style>\n",
       "<table border=\"1\" class=\"dataframe\">\n",
       "  <thead>\n",
       "    <tr style=\"text-align: right;\">\n",
       "      <th></th>\n",
       "      <th>mean_fit_time</th>\n",
       "      <th>std_fit_time</th>\n",
       "      <th>mean_score_time</th>\n",
       "      <th>std_score_time</th>\n",
       "      <th>param_C</th>\n",
       "      <th>params</th>\n",
       "      <th>split0_test_score</th>\n",
       "      <th>split1_test_score</th>\n",
       "      <th>split2_test_score</th>\n",
       "      <th>mean_test_score</th>\n",
       "      <th>std_test_score</th>\n",
       "      <th>rank_test_score</th>\n",
       "    </tr>\n",
       "  </thead>\n",
       "  <tbody>\n",
       "    <tr>\n",
       "      <th>0</th>\n",
       "      <td>6.081835</td>\n",
       "      <td>0.129849</td>\n",
       "      <td>0.058005</td>\n",
       "      <td>0.004241</td>\n",
       "      <td>0.001</td>\n",
       "      <td>{'C': 0.001}</td>\n",
       "      <td>0.983947</td>\n",
       "      <td>0.980332</td>\n",
       "      <td>0.984888</td>\n",
       "      <td>0.983056</td>\n",
       "      <td>0.001964</td>\n",
       "      <td>1</td>\n",
       "    </tr>\n",
       "    <tr>\n",
       "      <th>1</th>\n",
       "      <td>5.878163</td>\n",
       "      <td>0.090267</td>\n",
       "      <td>0.059679</td>\n",
       "      <td>0.005551</td>\n",
       "      <td>0.01</td>\n",
       "      <td>{'C': 0.01}</td>\n",
       "      <td>0.978500</td>\n",
       "      <td>0.979696</td>\n",
       "      <td>0.985747</td>\n",
       "      <td>0.981314</td>\n",
       "      <td>0.003172</td>\n",
       "      <td>2</td>\n",
       "    </tr>\n",
       "    <tr>\n",
       "      <th>2</th>\n",
       "      <td>5.876498</td>\n",
       "      <td>0.325253</td>\n",
       "      <td>0.060212</td>\n",
       "      <td>0.004236</td>\n",
       "      <td>0.1</td>\n",
       "      <td>{'C': 0.1}</td>\n",
       "      <td>0.952480</td>\n",
       "      <td>0.968933</td>\n",
       "      <td>0.928313</td>\n",
       "      <td>0.949909</td>\n",
       "      <td>0.016683</td>\n",
       "      <td>4</td>\n",
       "    </tr>\n",
       "    <tr>\n",
       "      <th>3</th>\n",
       "      <td>5.824281</td>\n",
       "      <td>0.163174</td>\n",
       "      <td>0.056532</td>\n",
       "      <td>0.004950</td>\n",
       "      <td>1.0</td>\n",
       "      <td>{'C': 1.0}</td>\n",
       "      <td>0.958280</td>\n",
       "      <td>0.959118</td>\n",
       "      <td>0.937411</td>\n",
       "      <td>0.951603</td>\n",
       "      <td>0.010041</td>\n",
       "      <td>3</td>\n",
       "    </tr>\n",
       "    <tr>\n",
       "      <th>4</th>\n",
       "      <td>5.782426</td>\n",
       "      <td>0.202301</td>\n",
       "      <td>0.060010</td>\n",
       "      <td>0.004543</td>\n",
       "      <td>10.0</td>\n",
       "      <td>{'C': 10.0}</td>\n",
       "      <td>0.947979</td>\n",
       "      <td>0.958682</td>\n",
       "      <td>0.931805</td>\n",
       "      <td>0.946155</td>\n",
       "      <td>0.011048</td>\n",
       "      <td>6</td>\n",
       "    </tr>\n",
       "    <tr>\n",
       "      <th>5</th>\n",
       "      <td>4.807000</td>\n",
       "      <td>0.827768</td>\n",
       "      <td>0.046216</td>\n",
       "      <td>0.005830</td>\n",
       "      <td>100.0</td>\n",
       "      <td>{'C': 100.0}</td>\n",
       "      <td>0.957391</td>\n",
       "      <td>0.957923</td>\n",
       "      <td>0.932957</td>\n",
       "      <td>0.949424</td>\n",
       "      <td>0.011646</td>\n",
       "      <td>5</td>\n",
       "    </tr>\n",
       "    <tr>\n",
       "      <th>6</th>\n",
       "      <td>4.177543</td>\n",
       "      <td>0.110828</td>\n",
       "      <td>0.032520</td>\n",
       "      <td>0.003910</td>\n",
       "      <td>1000.0</td>\n",
       "      <td>{'C': 1000.0}</td>\n",
       "      <td>0.950472</td>\n",
       "      <td>0.952350</td>\n",
       "      <td>0.935091</td>\n",
       "      <td>0.945971</td>\n",
       "      <td>0.007731</td>\n",
       "      <td>7</td>\n",
       "    </tr>\n",
       "  </tbody>\n",
       "</table>\n",
       "</div>"
      ],
      "text/plain": [
       "   mean_fit_time  std_fit_time  mean_score_time  std_score_time param_C  \\\n",
       "0       6.081835      0.129849         0.058005        0.004241   0.001   \n",
       "1       5.878163      0.090267         0.059679        0.005551    0.01   \n",
       "2       5.876498      0.325253         0.060212        0.004236     0.1   \n",
       "3       5.824281      0.163174         0.056532        0.004950     1.0   \n",
       "4       5.782426      0.202301         0.060010        0.004543    10.0   \n",
       "5       4.807000      0.827768         0.046216        0.005830   100.0   \n",
       "6       4.177543      0.110828         0.032520        0.003910  1000.0   \n",
       "\n",
       "          params  split0_test_score  split1_test_score  split2_test_score  \\\n",
       "0   {'C': 0.001}           0.983947           0.980332           0.984888   \n",
       "1    {'C': 0.01}           0.978500           0.979696           0.985747   \n",
       "2     {'C': 0.1}           0.952480           0.968933           0.928313   \n",
       "3     {'C': 1.0}           0.958280           0.959118           0.937411   \n",
       "4    {'C': 10.0}           0.947979           0.958682           0.931805   \n",
       "5   {'C': 100.0}           0.957391           0.957923           0.932957   \n",
       "6  {'C': 1000.0}           0.950472           0.952350           0.935091   \n",
       "\n",
       "   mean_test_score  std_test_score  rank_test_score  \n",
       "0         0.983056        0.001964                1  \n",
       "1         0.981314        0.003172                2  \n",
       "2         0.949909        0.016683                4  \n",
       "3         0.951603        0.010041                3  \n",
       "4         0.946155        0.011048                6  \n",
       "5         0.949424        0.011646                5  \n",
       "6         0.945971        0.007731                7  "
      ]
     },
     "execution_count": 13,
     "metadata": {},
     "output_type": "execute_result"
    }
   ],
   "source": [
    "logistic_cv = pd.DataFrame(logistic_model.cv_results_)\n",
    "logistic_cv"
   ]
  },
  {
   "cell_type": "code",
   "execution_count": 14,
   "metadata": {},
   "outputs": [
    {
     "name": "stdout",
     "output_type": "stream",
     "text": [
      "Best C: {'C': 0.001} Best score: 0.9830555398738171\n"
     ]
    }
   ],
   "source": [
    "# best params\n",
    "print('Best C:',logistic_model.best_params_, 'Best score:', logistic_model.best_score_)"
   ]
  },
  {
   "cell_type": "markdown",
   "metadata": {},
   "source": [
    "### Random Forest with imbalance data"
   ]
  },
  {
   "cell_type": "code",
   "execution_count": 15,
   "metadata": {},
   "outputs": [],
   "source": [
    "# Random Forest\n",
    "from sklearn.ensemble import RandomForestClassifier\n",
    "\n",
    "rf_clf = RandomForestClassifier(random_state=21)\n",
    "\n",
    "params = { \n",
    "    'n_estimators': range(800, 1000, 25)\n",
    "}\n",
    "\n",
    "rf_model = GridSearchCV(estimator=rf_clf, \n",
    "                              param_grid=params, \n",
    "                              n_jobs=-1, \n",
    "                              cv=3, \n",
    "                              scoring='roc_auc', \n",
    "                              verbose=1)"
   ]
  },
  {
   "cell_type": "code",
   "execution_count": 16,
   "metadata": {},
   "outputs": [
    {
     "name": "stdout",
     "output_type": "stream",
     "text": [
      "Fitting 3 folds for each of 8 candidates, totalling 24 fits\n"
     ]
    },
    {
     "data": {
      "text/plain": [
       "GridSearchCV(cv=3, estimator=RandomForestClassifier(random_state=21), n_jobs=-1,\n",
       "             param_grid={'n_estimators': range(800, 1000, 25)},\n",
       "             scoring='roc_auc', verbose=1)"
      ]
     },
     "execution_count": 16,
     "metadata": {},
     "output_type": "execute_result"
    }
   ],
   "source": [
    "rf_model.fit(x_train, y_train)"
   ]
  },
  {
   "cell_type": "code",
   "execution_count": 17,
   "metadata": {},
   "outputs": [
    {
     "data": {
      "text/html": [
       "<div>\n",
       "<style scoped>\n",
       "    .dataframe tbody tr th:only-of-type {\n",
       "        vertical-align: middle;\n",
       "    }\n",
       "\n",
       "    .dataframe tbody tr th {\n",
       "        vertical-align: top;\n",
       "    }\n",
       "\n",
       "    .dataframe thead th {\n",
       "        text-align: right;\n",
       "    }\n",
       "</style>\n",
       "<table border=\"1\" class=\"dataframe\">\n",
       "  <thead>\n",
       "    <tr style=\"text-align: right;\">\n",
       "      <th></th>\n",
       "      <th>mean_fit_time</th>\n",
       "      <th>std_fit_time</th>\n",
       "      <th>mean_score_time</th>\n",
       "      <th>std_score_time</th>\n",
       "      <th>param_n_estimators</th>\n",
       "      <th>params</th>\n",
       "      <th>split0_test_score</th>\n",
       "      <th>split1_test_score</th>\n",
       "      <th>split2_test_score</th>\n",
       "      <th>mean_test_score</th>\n",
       "      <th>std_test_score</th>\n",
       "      <th>rank_test_score</th>\n",
       "    </tr>\n",
       "  </thead>\n",
       "  <tbody>\n",
       "    <tr>\n",
       "      <th>0</th>\n",
       "      <td>1390.870162</td>\n",
       "      <td>31.024203</td>\n",
       "      <td>8.286236</td>\n",
       "      <td>0.311386</td>\n",
       "      <td>800</td>\n",
       "      <td>{'n_estimators': 800}</td>\n",
       "      <td>0.941883</td>\n",
       "      <td>0.949289</td>\n",
       "      <td>0.979099</td>\n",
       "      <td>0.956757</td>\n",
       "      <td>0.016085</td>\n",
       "      <td>6</td>\n",
       "    </tr>\n",
       "    <tr>\n",
       "      <th>1</th>\n",
       "      <td>1439.848358</td>\n",
       "      <td>46.303473</td>\n",
       "      <td>8.449965</td>\n",
       "      <td>0.203309</td>\n",
       "      <td>825</td>\n",
       "      <td>{'n_estimators': 825}</td>\n",
       "      <td>0.941790</td>\n",
       "      <td>0.949155</td>\n",
       "      <td>0.979008</td>\n",
       "      <td>0.956651</td>\n",
       "      <td>0.016092</td>\n",
       "      <td>7</td>\n",
       "    </tr>\n",
       "    <tr>\n",
       "      <th>2</th>\n",
       "      <td>1481.550199</td>\n",
       "      <td>37.956482</td>\n",
       "      <td>8.873319</td>\n",
       "      <td>0.314168</td>\n",
       "      <td>850</td>\n",
       "      <td>{'n_estimators': 850}</td>\n",
       "      <td>0.941726</td>\n",
       "      <td>0.949058</td>\n",
       "      <td>0.978915</td>\n",
       "      <td>0.956566</td>\n",
       "      <td>0.016084</td>\n",
       "      <td>8</td>\n",
       "    </tr>\n",
       "    <tr>\n",
       "      <th>3</th>\n",
       "      <td>1521.572589</td>\n",
       "      <td>41.192317</td>\n",
       "      <td>10.143947</td>\n",
       "      <td>0.235471</td>\n",
       "      <td>875</td>\n",
       "      <td>{'n_estimators': 875}</td>\n",
       "      <td>0.945532</td>\n",
       "      <td>0.952879</td>\n",
       "      <td>0.978922</td>\n",
       "      <td>0.959111</td>\n",
       "      <td>0.014326</td>\n",
       "      <td>5</td>\n",
       "    </tr>\n",
       "    <tr>\n",
       "      <th>4</th>\n",
       "      <td>1596.480062</td>\n",
       "      <td>37.459927</td>\n",
       "      <td>10.449423</td>\n",
       "      <td>1.202968</td>\n",
       "      <td>900</td>\n",
       "      <td>{'n_estimators': 900}</td>\n",
       "      <td>0.949426</td>\n",
       "      <td>0.956660</td>\n",
       "      <td>0.978826</td>\n",
       "      <td>0.961638</td>\n",
       "      <td>0.012508</td>\n",
       "      <td>1</td>\n",
       "    </tr>\n",
       "    <tr>\n",
       "      <th>5</th>\n",
       "      <td>1760.557189</td>\n",
       "      <td>105.352280</td>\n",
       "      <td>10.497409</td>\n",
       "      <td>0.711063</td>\n",
       "      <td>925</td>\n",
       "      <td>{'n_estimators': 925}</td>\n",
       "      <td>0.949339</td>\n",
       "      <td>0.956542</td>\n",
       "      <td>0.978849</td>\n",
       "      <td>0.961577</td>\n",
       "      <td>0.012562</td>\n",
       "      <td>2</td>\n",
       "    </tr>\n",
       "    <tr>\n",
       "      <th>6</th>\n",
       "      <td>1806.844435</td>\n",
       "      <td>6.721238</td>\n",
       "      <td>8.288774</td>\n",
       "      <td>0.450208</td>\n",
       "      <td>950</td>\n",
       "      <td>{'n_estimators': 950}</td>\n",
       "      <td>0.949246</td>\n",
       "      <td>0.956434</td>\n",
       "      <td>0.978766</td>\n",
       "      <td>0.961482</td>\n",
       "      <td>0.012569</td>\n",
       "      <td>3</td>\n",
       "    </tr>\n",
       "    <tr>\n",
       "      <th>7</th>\n",
       "      <td>1813.741253</td>\n",
       "      <td>43.524757</td>\n",
       "      <td>6.883639</td>\n",
       "      <td>0.193804</td>\n",
       "      <td>975</td>\n",
       "      <td>{'n_estimators': 975}</td>\n",
       "      <td>0.949168</td>\n",
       "      <td>0.956353</td>\n",
       "      <td>0.978674</td>\n",
       "      <td>0.961398</td>\n",
       "      <td>0.012563</td>\n",
       "      <td>4</td>\n",
       "    </tr>\n",
       "  </tbody>\n",
       "</table>\n",
       "</div>"
      ],
      "text/plain": [
       "   mean_fit_time  std_fit_time  mean_score_time  std_score_time  \\\n",
       "0    1390.870162     31.024203         8.286236        0.311386   \n",
       "1    1439.848358     46.303473         8.449965        0.203309   \n",
       "2    1481.550199     37.956482         8.873319        0.314168   \n",
       "3    1521.572589     41.192317        10.143947        0.235471   \n",
       "4    1596.480062     37.459927        10.449423        1.202968   \n",
       "5    1760.557189    105.352280        10.497409        0.711063   \n",
       "6    1806.844435      6.721238         8.288774        0.450208   \n",
       "7    1813.741253     43.524757         6.883639        0.193804   \n",
       "\n",
       "  param_n_estimators                 params  split0_test_score  \\\n",
       "0                800  {'n_estimators': 800}           0.941883   \n",
       "1                825  {'n_estimators': 825}           0.941790   \n",
       "2                850  {'n_estimators': 850}           0.941726   \n",
       "3                875  {'n_estimators': 875}           0.945532   \n",
       "4                900  {'n_estimators': 900}           0.949426   \n",
       "5                925  {'n_estimators': 925}           0.949339   \n",
       "6                950  {'n_estimators': 950}           0.949246   \n",
       "7                975  {'n_estimators': 975}           0.949168   \n",
       "\n",
       "   split1_test_score  split2_test_score  mean_test_score  std_test_score  \\\n",
       "0           0.949289           0.979099         0.956757        0.016085   \n",
       "1           0.949155           0.979008         0.956651        0.016092   \n",
       "2           0.949058           0.978915         0.956566        0.016084   \n",
       "3           0.952879           0.978922         0.959111        0.014326   \n",
       "4           0.956660           0.978826         0.961638        0.012508   \n",
       "5           0.956542           0.978849         0.961577        0.012562   \n",
       "6           0.956434           0.978766         0.961482        0.012569   \n",
       "7           0.956353           0.978674         0.961398        0.012563   \n",
       "\n",
       "   rank_test_score  \n",
       "0                6  \n",
       "1                7  \n",
       "2                8  \n",
       "3                5  \n",
       "4                1  \n",
       "5                2  \n",
       "6                3  \n",
       "7                4  "
      ]
     },
     "execution_count": 17,
     "metadata": {},
     "output_type": "execute_result"
    }
   ],
   "source": [
    "rf_cv = pd.DataFrame(rf_model.cv_results_)\n",
    "rf_cv"
   ]
  },
  {
   "cell_type": "code",
   "execution_count": 18,
   "metadata": {},
   "outputs": [
    {
     "name": "stdout",
     "output_type": "stream",
     "text": [
      "Best C: {'n_estimators': 900} Best score: 0.9616376272828718\n"
     ]
    }
   ],
   "source": [
    "# best params\n",
    "print('Best C:',rf_model.best_params_, 'Best score:', rf_model.best_score_)"
   ]
  },
  {
   "cell_type": "markdown",
   "metadata": {},
   "source": [
    "### XGBoost with imbalance data"
   ]
  },
  {
   "cell_type": "code",
   "execution_count": 19,
   "metadata": {},
   "outputs": [],
   "source": [
    "# XGBoost\n",
    "from xgboost import XGBClassifier\n",
    "\n",
    "xgb_clf = XGBClassifier(max_depth=2, random_state = 21)\n",
    "\n",
    "params = {'learning_rate': [0.1, 0.2, 0.3],\n",
    "         'n_estimators': [1000, 1100]}\n",
    "\n",
    "xgb_model = GridSearchCV(estimator=xgb_clf, \n",
    "                              param_grid=params, \n",
    "                              n_jobs=-1, \n",
    "                              cv=3, \n",
    "                              scoring='roc_auc', \n",
    "                              verbose=1)"
   ]
  },
  {
   "cell_type": "code",
   "execution_count": 20,
   "metadata": {},
   "outputs": [
    {
     "name": "stdout",
     "output_type": "stream",
     "text": [
      "Fitting 3 folds for each of 6 candidates, totalling 18 fits\n",
      "[23:16:18] WARNING: C:/Users/Administrator/workspace/xgboost-win64_release_1.4.0/src/learner.cc:1095: Starting in XGBoost 1.3.0, the default evaluation metric used with the objective 'binary:logistic' was changed from 'error' to 'logloss'. Explicitly set eval_metric if you'd like to restore the old behavior.\n"
     ]
    },
    {
     "data": {
      "text/plain": [
       "GridSearchCV(cv=3,\n",
       "             estimator=XGBClassifier(base_score=None, booster=None,\n",
       "                                     colsample_bylevel=None,\n",
       "                                     colsample_bynode=None,\n",
       "                                     colsample_bytree=None, gamma=None,\n",
       "                                     gpu_id=None, importance_type='gain',\n",
       "                                     interaction_constraints=None,\n",
       "                                     learning_rate=None, max_delta_step=None,\n",
       "                                     max_depth=2, min_child_weight=None,\n",
       "                                     missing=nan, monotone_constraints=None,\n",
       "                                     n_estimators=100, n_jobs=None,\n",
       "                                     num_parallel_tree=None, random_state=21,\n",
       "                                     reg_alpha=None, reg_lambda=None,\n",
       "                                     scale_pos_weight=None, subsample=None,\n",
       "                                     tree_method=None, validate_parameters=None,\n",
       "                                     verbosity=None),\n",
       "             n_jobs=-1,\n",
       "             param_grid={'learning_rate': [0.1, 0.2, 0.3],\n",
       "                         'n_estimators': [1000, 1100]},\n",
       "             scoring='roc_auc', verbose=1)"
      ]
     },
     "execution_count": 20,
     "metadata": {},
     "output_type": "execute_result"
    }
   ],
   "source": [
    "xgb_model.fit(x_train, y_train)"
   ]
  },
  {
   "cell_type": "code",
   "execution_count": 21,
   "metadata": {},
   "outputs": [
    {
     "data": {
      "text/html": [
       "<div>\n",
       "<style scoped>\n",
       "    .dataframe tbody tr th:only-of-type {\n",
       "        vertical-align: middle;\n",
       "    }\n",
       "\n",
       "    .dataframe tbody tr th {\n",
       "        vertical-align: top;\n",
       "    }\n",
       "\n",
       "    .dataframe thead th {\n",
       "        text-align: right;\n",
       "    }\n",
       "</style>\n",
       "<table border=\"1\" class=\"dataframe\">\n",
       "  <thead>\n",
       "    <tr style=\"text-align: right;\">\n",
       "      <th></th>\n",
       "      <th>mean_fit_time</th>\n",
       "      <th>std_fit_time</th>\n",
       "      <th>mean_score_time</th>\n",
       "      <th>std_score_time</th>\n",
       "      <th>param_learning_rate</th>\n",
       "      <th>param_n_estimators</th>\n",
       "      <th>params</th>\n",
       "      <th>split0_test_score</th>\n",
       "      <th>split1_test_score</th>\n",
       "      <th>split2_test_score</th>\n",
       "      <th>mean_test_score</th>\n",
       "      <th>std_test_score</th>\n",
       "      <th>rank_test_score</th>\n",
       "    </tr>\n",
       "  </thead>\n",
       "  <tbody>\n",
       "    <tr>\n",
       "      <th>0</th>\n",
       "      <td>531.890347</td>\n",
       "      <td>36.478703</td>\n",
       "      <td>0.422012</td>\n",
       "      <td>0.011202</td>\n",
       "      <td>0.1</td>\n",
       "      <td>1000</td>\n",
       "      <td>{'learning_rate': 0.1, 'n_estimators': 1000}</td>\n",
       "      <td>0.973107</td>\n",
       "      <td>0.974160</td>\n",
       "      <td>0.977946</td>\n",
       "      <td>0.975071</td>\n",
       "      <td>0.002078</td>\n",
       "      <td>1</td>\n",
       "    </tr>\n",
       "    <tr>\n",
       "      <th>1</th>\n",
       "      <td>586.452870</td>\n",
       "      <td>40.956964</td>\n",
       "      <td>0.527289</td>\n",
       "      <td>0.074200</td>\n",
       "      <td>0.1</td>\n",
       "      <td>1100</td>\n",
       "      <td>{'learning_rate': 0.1, 'n_estimators': 1100}</td>\n",
       "      <td>0.972498</td>\n",
       "      <td>0.974714</td>\n",
       "      <td>0.977790</td>\n",
       "      <td>0.975001</td>\n",
       "      <td>0.002170</td>\n",
       "      <td>2</td>\n",
       "    </tr>\n",
       "    <tr>\n",
       "      <th>2</th>\n",
       "      <td>474.530606</td>\n",
       "      <td>7.342274</td>\n",
       "      <td>0.457040</td>\n",
       "      <td>0.042131</td>\n",
       "      <td>0.2</td>\n",
       "      <td>1000</td>\n",
       "      <td>{'learning_rate': 0.2, 'n_estimators': 1000}</td>\n",
       "      <td>0.970586</td>\n",
       "      <td>0.973681</td>\n",
       "      <td>0.975356</td>\n",
       "      <td>0.973208</td>\n",
       "      <td>0.001976</td>\n",
       "      <td>6</td>\n",
       "    </tr>\n",
       "    <tr>\n",
       "      <th>3</th>\n",
       "      <td>514.087442</td>\n",
       "      <td>6.190605</td>\n",
       "      <td>0.558208</td>\n",
       "      <td>0.033032</td>\n",
       "      <td>0.2</td>\n",
       "      <td>1100</td>\n",
       "      <td>{'learning_rate': 0.2, 'n_estimators': 1100}</td>\n",
       "      <td>0.970820</td>\n",
       "      <td>0.974032</td>\n",
       "      <td>0.974853</td>\n",
       "      <td>0.973235</td>\n",
       "      <td>0.001740</td>\n",
       "      <td>5</td>\n",
       "    </tr>\n",
       "    <tr>\n",
       "      <th>4</th>\n",
       "      <td>444.184986</td>\n",
       "      <td>17.577493</td>\n",
       "      <td>0.396198</td>\n",
       "      <td>0.039300</td>\n",
       "      <td>0.3</td>\n",
       "      <td>1000</td>\n",
       "      <td>{'learning_rate': 0.3, 'n_estimators': 1000}</td>\n",
       "      <td>0.970262</td>\n",
       "      <td>0.975201</td>\n",
       "      <td>0.978739</td>\n",
       "      <td>0.974734</td>\n",
       "      <td>0.003476</td>\n",
       "      <td>3</td>\n",
       "    </tr>\n",
       "    <tr>\n",
       "      <th>5</th>\n",
       "      <td>258.646256</td>\n",
       "      <td>117.754579</td>\n",
       "      <td>0.241265</td>\n",
       "      <td>0.051098</td>\n",
       "      <td>0.3</td>\n",
       "      <td>1100</td>\n",
       "      <td>{'learning_rate': 0.3, 'n_estimators': 1100}</td>\n",
       "      <td>0.970149</td>\n",
       "      <td>0.975213</td>\n",
       "      <td>0.978660</td>\n",
       "      <td>0.974674</td>\n",
       "      <td>0.003495</td>\n",
       "      <td>4</td>\n",
       "    </tr>\n",
       "  </tbody>\n",
       "</table>\n",
       "</div>"
      ],
      "text/plain": [
       "   mean_fit_time  std_fit_time  mean_score_time  std_score_time  \\\n",
       "0     531.890347     36.478703         0.422012        0.011202   \n",
       "1     586.452870     40.956964         0.527289        0.074200   \n",
       "2     474.530606      7.342274         0.457040        0.042131   \n",
       "3     514.087442      6.190605         0.558208        0.033032   \n",
       "4     444.184986     17.577493         0.396198        0.039300   \n",
       "5     258.646256    117.754579         0.241265        0.051098   \n",
       "\n",
       "  param_learning_rate param_n_estimators  \\\n",
       "0                 0.1               1000   \n",
       "1                 0.1               1100   \n",
       "2                 0.2               1000   \n",
       "3                 0.2               1100   \n",
       "4                 0.3               1000   \n",
       "5                 0.3               1100   \n",
       "\n",
       "                                         params  split0_test_score  \\\n",
       "0  {'learning_rate': 0.1, 'n_estimators': 1000}           0.973107   \n",
       "1  {'learning_rate': 0.1, 'n_estimators': 1100}           0.972498   \n",
       "2  {'learning_rate': 0.2, 'n_estimators': 1000}           0.970586   \n",
       "3  {'learning_rate': 0.2, 'n_estimators': 1100}           0.970820   \n",
       "4  {'learning_rate': 0.3, 'n_estimators': 1000}           0.970262   \n",
       "5  {'learning_rate': 0.3, 'n_estimators': 1100}           0.970149   \n",
       "\n",
       "   split1_test_score  split2_test_score  mean_test_score  std_test_score  \\\n",
       "0           0.974160           0.977946         0.975071        0.002078   \n",
       "1           0.974714           0.977790         0.975001        0.002170   \n",
       "2           0.973681           0.975356         0.973208        0.001976   \n",
       "3           0.974032           0.974853         0.973235        0.001740   \n",
       "4           0.975201           0.978739         0.974734        0.003476   \n",
       "5           0.975213           0.978660         0.974674        0.003495   \n",
       "\n",
       "   rank_test_score  \n",
       "0                1  \n",
       "1                2  \n",
       "2                6  \n",
       "3                5  \n",
       "4                3  \n",
       "5                4  "
      ]
     },
     "execution_count": 21,
     "metadata": {},
     "output_type": "execute_result"
    }
   ],
   "source": [
    "xgb_cv = pd.DataFrame(xgb_model.cv_results_)\n",
    "xgb_cv"
   ]
  },
  {
   "cell_type": "code",
   "execution_count": 22,
   "metadata": {},
   "outputs": [
    {
     "name": "stdout",
     "output_type": "stream",
     "text": [
      "Best C: {'learning_rate': 0.1, 'n_estimators': 1000} Best score: 0.9750712235644278\n"
     ]
    }
   ],
   "source": [
    "# best params\n",
    "print('Best C:',xgb_model.best_params_, 'Best score:', xgb_model.best_score_)"
   ]
  },
  {
   "cell_type": "markdown",
   "metadata": {},
   "source": [
    "From the above 3 model we can see that logistic regression has the best ROC AUC with 0.9830."
   ]
  },
  {
   "cell_type": "code",
   "execution_count": 25,
   "metadata": {},
   "outputs": [
    {
     "data": {
      "text/plain": [
       "0.9820901214119135"
      ]
     },
     "execution_count": 25,
     "metadata": {},
     "output_type": "execute_result"
    }
   ],
   "source": [
    "# predict on test data\n",
    "from sklearn.metrics import roc_auc_score\n",
    "\n",
    "# logistic regression\n",
    "logistic_test_score = roc_auc_score(y_test,logistic_model.predict_proba(x_test)[:, 1])\n",
    "logistic_test_score"
   ]
  },
  {
   "cell_type": "code",
   "execution_count": 26,
   "metadata": {},
   "outputs": [
    {
     "data": {
      "text/plain": [
       "0.9757653713370799"
      ]
     },
     "execution_count": 26,
     "metadata": {},
     "output_type": "execute_result"
    }
   ],
   "source": [
    "# random forest\n",
    "rf_test_score = roc_auc_score(y_test,rf_model.predict_proba(x_test)[:, 1])\n",
    "rf_test_score"
   ]
  },
  {
   "cell_type": "code",
   "execution_count": 27,
   "metadata": {},
   "outputs": [
    {
     "data": {
      "text/plain": [
       "0.9832964969585541"
      ]
     },
     "execution_count": 27,
     "metadata": {},
     "output_type": "execute_result"
    }
   ],
   "source": [
    "# xgboost\n",
    "xgb_test_score = roc_auc_score(y_test,xgb_model.predict_proba(x_test)[:, 1])\n",
    "xgb_test_score"
   ]
  },
  {
   "cell_type": "markdown",
   "metadata": {},
   "source": [
    "## Model building with balancing Classes"
   ]
  },
  {
   "cell_type": "code",
   "execution_count": 36,
   "metadata": {},
   "outputs": [
    {
     "name": "stdout",
     "output_type": "stream",
     "text": [
      "369\n",
      "213236\n"
     ]
    }
   ],
   "source": [
    "# balancing the dataset using smote\n",
    "from imblearn.over_sampling import SMOTE\n",
    "\n",
    "smote = SMOTE(random_state=21)\n",
    "x_train_smote, y_train_smote = smote.fit_resample(x_train, y_train)\n",
    "\n",
    "print(np.sum(y_train))\n",
    "print(np.sum(y_train_smote))"
   ]
  },
  {
   "cell_type": "code",
   "execution_count": 66,
   "metadata": {},
   "outputs": [
    {
     "name": "stdout",
     "output_type": "stream",
     "text": [
      "50.0\n"
     ]
    }
   ],
   "source": [
    "# % of Fraud rows\n",
    "print(100*(np.sum(y_train_smote)/len(y_train_smote)))"
   ]
  },
  {
   "cell_type": "markdown",
   "metadata": {},
   "source": [
    "### Logistic Regression with balanced data"
   ]
  },
  {
   "cell_type": "code",
   "execution_count": 37,
   "metadata": {},
   "outputs": [],
   "source": [
    "#logistic regression\n",
    "\n",
    "logistic_clf_smote = LogisticRegression(random_state = 21)\n",
    "\n",
    "params = {'C': [0.001, 0.01, 0.1, 1.0, 10.0, 100.0, 1000.0]}\n",
    "\n",
    "\n",
    "logistic_model_smote = GridSearchCV(estimator=logistic_clf_smote, \n",
    "                              param_grid=params, \n",
    "                              n_jobs=-1, \n",
    "                              cv=3, \n",
    "                              scoring='roc_auc', \n",
    "                              verbose=1)"
   ]
  },
  {
   "cell_type": "code",
   "execution_count": 38,
   "metadata": {},
   "outputs": [
    {
     "name": "stdout",
     "output_type": "stream",
     "text": [
      "Fitting 3 folds for each of 7 candidates, totalling 21 fits\n"
     ]
    },
    {
     "data": {
      "text/plain": [
       "GridSearchCV(cv=3, estimator=LogisticRegression(random_state=21), n_jobs=-1,\n",
       "             param_grid={'C': [0.001, 0.01, 0.1, 1.0, 10.0, 100.0, 1000.0]},\n",
       "             scoring='roc_auc', verbose=1)"
      ]
     },
     "execution_count": 38,
     "metadata": {},
     "output_type": "execute_result"
    }
   ],
   "source": [
    "logistic_model_smote.fit(x_train_smote, y_train_smote)"
   ]
  },
  {
   "cell_type": "code",
   "execution_count": 39,
   "metadata": {},
   "outputs": [
    {
     "data": {
      "text/html": [
       "<div>\n",
       "<style scoped>\n",
       "    .dataframe tbody tr th:only-of-type {\n",
       "        vertical-align: middle;\n",
       "    }\n",
       "\n",
       "    .dataframe tbody tr th {\n",
       "        vertical-align: top;\n",
       "    }\n",
       "\n",
       "    .dataframe thead th {\n",
       "        text-align: right;\n",
       "    }\n",
       "</style>\n",
       "<table border=\"1\" class=\"dataframe\">\n",
       "  <thead>\n",
       "    <tr style=\"text-align: right;\">\n",
       "      <th></th>\n",
       "      <th>mean_fit_time</th>\n",
       "      <th>std_fit_time</th>\n",
       "      <th>mean_score_time</th>\n",
       "      <th>std_score_time</th>\n",
       "      <th>param_C</th>\n",
       "      <th>params</th>\n",
       "      <th>split0_test_score</th>\n",
       "      <th>split1_test_score</th>\n",
       "      <th>split2_test_score</th>\n",
       "      <th>mean_test_score</th>\n",
       "      <th>std_test_score</th>\n",
       "      <th>rank_test_score</th>\n",
       "    </tr>\n",
       "  </thead>\n",
       "  <tbody>\n",
       "    <tr>\n",
       "      <th>0</th>\n",
       "      <td>11.416516</td>\n",
       "      <td>0.531453</td>\n",
       "      <td>0.115969</td>\n",
       "      <td>0.015035</td>\n",
       "      <td>0.001</td>\n",
       "      <td>{'C': 0.001}</td>\n",
       "      <td>0.992387</td>\n",
       "      <td>0.992705</td>\n",
       "      <td>0.992230</td>\n",
       "      <td>0.992441</td>\n",
       "      <td>0.000198</td>\n",
       "      <td>4</td>\n",
       "    </tr>\n",
       "    <tr>\n",
       "      <th>1</th>\n",
       "      <td>10.583195</td>\n",
       "      <td>0.614831</td>\n",
       "      <td>0.119118</td>\n",
       "      <td>0.005258</td>\n",
       "      <td>0.01</td>\n",
       "      <td>{'C': 0.01}</td>\n",
       "      <td>0.992411</td>\n",
       "      <td>0.992641</td>\n",
       "      <td>0.992577</td>\n",
       "      <td>0.992543</td>\n",
       "      <td>0.000097</td>\n",
       "      <td>1</td>\n",
       "    </tr>\n",
       "    <tr>\n",
       "      <th>2</th>\n",
       "      <td>9.986772</td>\n",
       "      <td>0.204291</td>\n",
       "      <td>0.125656</td>\n",
       "      <td>0.007583</td>\n",
       "      <td>0.1</td>\n",
       "      <td>{'C': 0.1}</td>\n",
       "      <td>0.992067</td>\n",
       "      <td>0.992551</td>\n",
       "      <td>0.992356</td>\n",
       "      <td>0.992325</td>\n",
       "      <td>0.000199</td>\n",
       "      <td>6</td>\n",
       "    </tr>\n",
       "    <tr>\n",
       "      <th>3</th>\n",
       "      <td>10.609098</td>\n",
       "      <td>0.409860</td>\n",
       "      <td>0.114005</td>\n",
       "      <td>0.010987</td>\n",
       "      <td>1.0</td>\n",
       "      <td>{'C': 1.0}</td>\n",
       "      <td>0.992325</td>\n",
       "      <td>0.992335</td>\n",
       "      <td>0.992428</td>\n",
       "      <td>0.992363</td>\n",
       "      <td>0.000046</td>\n",
       "      <td>5</td>\n",
       "    </tr>\n",
       "    <tr>\n",
       "      <th>4</th>\n",
       "      <td>11.143300</td>\n",
       "      <td>0.148325</td>\n",
       "      <td>0.123179</td>\n",
       "      <td>0.009358</td>\n",
       "      <td>10.0</td>\n",
       "      <td>{'C': 10.0}</td>\n",
       "      <td>0.992541</td>\n",
       "      <td>0.992792</td>\n",
       "      <td>0.992184</td>\n",
       "      <td>0.992506</td>\n",
       "      <td>0.000250</td>\n",
       "      <td>2</td>\n",
       "    </tr>\n",
       "    <tr>\n",
       "      <th>5</th>\n",
       "      <td>9.191623</td>\n",
       "      <td>1.362498</td>\n",
       "      <td>0.085496</td>\n",
       "      <td>0.007251</td>\n",
       "      <td>100.0</td>\n",
       "      <td>{'C': 100.0}</td>\n",
       "      <td>0.992270</td>\n",
       "      <td>0.992439</td>\n",
       "      <td>0.992086</td>\n",
       "      <td>0.992265</td>\n",
       "      <td>0.000144</td>\n",
       "      <td>7</td>\n",
       "    </tr>\n",
       "    <tr>\n",
       "      <th>6</th>\n",
       "      <td>7.876444</td>\n",
       "      <td>0.374485</td>\n",
       "      <td>0.068096</td>\n",
       "      <td>0.015348</td>\n",
       "      <td>1000.0</td>\n",
       "      <td>{'C': 1000.0}</td>\n",
       "      <td>0.992457</td>\n",
       "      <td>0.992321</td>\n",
       "      <td>0.992613</td>\n",
       "      <td>0.992464</td>\n",
       "      <td>0.000119</td>\n",
       "      <td>3</td>\n",
       "    </tr>\n",
       "  </tbody>\n",
       "</table>\n",
       "</div>"
      ],
      "text/plain": [
       "   mean_fit_time  std_fit_time  mean_score_time  std_score_time param_C  \\\n",
       "0      11.416516      0.531453         0.115969        0.015035   0.001   \n",
       "1      10.583195      0.614831         0.119118        0.005258    0.01   \n",
       "2       9.986772      0.204291         0.125656        0.007583     0.1   \n",
       "3      10.609098      0.409860         0.114005        0.010987     1.0   \n",
       "4      11.143300      0.148325         0.123179        0.009358    10.0   \n",
       "5       9.191623      1.362498         0.085496        0.007251   100.0   \n",
       "6       7.876444      0.374485         0.068096        0.015348  1000.0   \n",
       "\n",
       "          params  split0_test_score  split1_test_score  split2_test_score  \\\n",
       "0   {'C': 0.001}           0.992387           0.992705           0.992230   \n",
       "1    {'C': 0.01}           0.992411           0.992641           0.992577   \n",
       "2     {'C': 0.1}           0.992067           0.992551           0.992356   \n",
       "3     {'C': 1.0}           0.992325           0.992335           0.992428   \n",
       "4    {'C': 10.0}           0.992541           0.992792           0.992184   \n",
       "5   {'C': 100.0}           0.992270           0.992439           0.992086   \n",
       "6  {'C': 1000.0}           0.992457           0.992321           0.992613   \n",
       "\n",
       "   mean_test_score  std_test_score  rank_test_score  \n",
       "0         0.992441        0.000198                4  \n",
       "1         0.992543        0.000097                1  \n",
       "2         0.992325        0.000199                6  \n",
       "3         0.992363        0.000046                5  \n",
       "4         0.992506        0.000250                2  \n",
       "5         0.992265        0.000144                7  \n",
       "6         0.992464        0.000119                3  "
      ]
     },
     "execution_count": 39,
     "metadata": {},
     "output_type": "execute_result"
    }
   ],
   "source": [
    "logistic_cv_smote = pd.DataFrame(logistic_model_smote.cv_results_)\n",
    "logistic_cv_smote"
   ]
  },
  {
   "cell_type": "code",
   "execution_count": 40,
   "metadata": {},
   "outputs": [
    {
     "name": "stdout",
     "output_type": "stream",
     "text": [
      "Best C: {'C': 0.01} Best score: 0.9925433825281628\n"
     ]
    }
   ],
   "source": [
    "# best params\n",
    "print('Best C:',logistic_model_smote.best_params_, 'Best score:', logistic_model_smote.best_score_)"
   ]
  },
  {
   "cell_type": "markdown",
   "metadata": {},
   "source": [
    "### Random Forest"
   ]
  },
  {
   "cell_type": "code",
   "execution_count": 44,
   "metadata": {},
   "outputs": [],
   "source": [
    "# Random Forest\n",
    "\n",
    "rf_clf_smote = RandomForestClassifier(random_state=21)\n",
    "\n",
    "params = { \n",
    "    'n_estimators': [900, 1000]\n",
    "}\n",
    "\n",
    "rf_model_smote = GridSearchCV(estimator=rf_clf_smote, \n",
    "                              param_grid=params, \n",
    "                              n_jobs=-1, \n",
    "                              cv=3, \n",
    "                              scoring='roc_auc', \n",
    "                              verbose=1)"
   ]
  },
  {
   "cell_type": "code",
   "execution_count": 45,
   "metadata": {},
   "outputs": [
    {
     "name": "stdout",
     "output_type": "stream",
     "text": [
      "Fitting 3 folds for each of 2 candidates, totalling 6 fits\n"
     ]
    },
    {
     "data": {
      "text/plain": [
       "GridSearchCV(cv=3, estimator=RandomForestClassifier(random_state=21), n_jobs=-1,\n",
       "             param_grid={'n_estimators': [900, 1000]}, scoring='roc_auc',\n",
       "             verbose=1)"
      ]
     },
     "execution_count": 45,
     "metadata": {},
     "output_type": "execute_result"
    }
   ],
   "source": [
    "rf_model_smote.fit(x_train_smote, y_train_smote)"
   ]
  },
  {
   "cell_type": "code",
   "execution_count": 46,
   "metadata": {},
   "outputs": [
    {
     "data": {
      "text/html": [
       "<div>\n",
       "<style scoped>\n",
       "    .dataframe tbody tr th:only-of-type {\n",
       "        vertical-align: middle;\n",
       "    }\n",
       "\n",
       "    .dataframe tbody tr th {\n",
       "        vertical-align: top;\n",
       "    }\n",
       "\n",
       "    .dataframe thead th {\n",
       "        text-align: right;\n",
       "    }\n",
       "</style>\n",
       "<table border=\"1\" class=\"dataframe\">\n",
       "  <thead>\n",
       "    <tr style=\"text-align: right;\">\n",
       "      <th></th>\n",
       "      <th>mean_fit_time</th>\n",
       "      <th>std_fit_time</th>\n",
       "      <th>mean_score_time</th>\n",
       "      <th>std_score_time</th>\n",
       "      <th>param_n_estimators</th>\n",
       "      <th>params</th>\n",
       "      <th>split0_test_score</th>\n",
       "      <th>split1_test_score</th>\n",
       "      <th>split2_test_score</th>\n",
       "      <th>mean_test_score</th>\n",
       "      <th>std_test_score</th>\n",
       "      <th>rank_test_score</th>\n",
       "    </tr>\n",
       "  </thead>\n",
       "  <tbody>\n",
       "    <tr>\n",
       "      <th>0</th>\n",
       "      <td>2717.010131</td>\n",
       "      <td>4.439747</td>\n",
       "      <td>23.535657</td>\n",
       "      <td>0.587914</td>\n",
       "      <td>900</td>\n",
       "      <td>{'n_estimators': 900}</td>\n",
       "      <td>0.999999</td>\n",
       "      <td>0.999998</td>\n",
       "      <td>0.999998</td>\n",
       "      <td>0.999998</td>\n",
       "      <td>4.557029e-07</td>\n",
       "      <td>2</td>\n",
       "    </tr>\n",
       "    <tr>\n",
       "      <th>1</th>\n",
       "      <td>2960.386189</td>\n",
       "      <td>4.222565</td>\n",
       "      <td>20.932640</td>\n",
       "      <td>0.240322</td>\n",
       "      <td>1000</td>\n",
       "      <td>{'n_estimators': 1000}</td>\n",
       "      <td>0.999999</td>\n",
       "      <td>0.999998</td>\n",
       "      <td>0.999998</td>\n",
       "      <td>0.999998</td>\n",
       "      <td>4.116611e-07</td>\n",
       "      <td>1</td>\n",
       "    </tr>\n",
       "  </tbody>\n",
       "</table>\n",
       "</div>"
      ],
      "text/plain": [
       "   mean_fit_time  std_fit_time  mean_score_time  std_score_time  \\\n",
       "0    2717.010131      4.439747        23.535657        0.587914   \n",
       "1    2960.386189      4.222565        20.932640        0.240322   \n",
       "\n",
       "  param_n_estimators                  params  split0_test_score  \\\n",
       "0                900   {'n_estimators': 900}           0.999999   \n",
       "1               1000  {'n_estimators': 1000}           0.999999   \n",
       "\n",
       "   split1_test_score  split2_test_score  mean_test_score  std_test_score  \\\n",
       "0           0.999998           0.999998         0.999998    4.557029e-07   \n",
       "1           0.999998           0.999998         0.999998    4.116611e-07   \n",
       "\n",
       "   rank_test_score  \n",
       "0                2  \n",
       "1                1  "
      ]
     },
     "execution_count": 46,
     "metadata": {},
     "output_type": "execute_result"
    }
   ],
   "source": [
    "rf_cv_smote = pd.DataFrame(rf_model_smote.cv_results_)\n",
    "rf_cv_smote"
   ]
  },
  {
   "cell_type": "code",
   "execution_count": 47,
   "metadata": {},
   "outputs": [
    {
     "name": "stdout",
     "output_type": "stream",
     "text": [
      "Best C: {'n_estimators': 1000} Best score: 0.9999982358078827\n"
     ]
    }
   ],
   "source": [
    "# best params\n",
    "print('Best C:',rf_model_smote.best_params_, 'Best score:', rf_model_smote.best_score_)"
   ]
  },
  {
   "cell_type": "markdown",
   "metadata": {},
   "source": [
    "### XGBoost"
   ]
  },
  {
   "cell_type": "code",
   "execution_count": 50,
   "metadata": {},
   "outputs": [],
   "source": [
    "# XGBoost\n",
    "\n",
    "xgb_clf_smote = XGBClassifier(max_depth=2, random_state = 21, tree_method = 'gpu_hist')\n",
    "\n",
    "params = {'learning_rate': [0.1, 0.2, 0.3],\n",
    "         'n_estimators': [1000]}\n",
    "\n",
    "xgb_model_smote = GridSearchCV(estimator=xgb_clf_smote, \n",
    "                              param_grid=params, \n",
    "                              n_jobs=-1, \n",
    "                              cv=3, \n",
    "                              scoring='roc_auc', \n",
    "                              verbose=1)"
   ]
  },
  {
   "cell_type": "code",
   "execution_count": 51,
   "metadata": {},
   "outputs": [
    {
     "name": "stdout",
     "output_type": "stream",
     "text": [
      "Fitting 3 folds for each of 3 candidates, totalling 9 fits\n",
      "[22:47:24] WARNING: C:/Users/Administrator/workspace/xgboost-win64_release_1.4.0/src/learner.cc:1095: Starting in XGBoost 1.3.0, the default evaluation metric used with the objective 'binary:logistic' was changed from 'error' to 'logloss'. Explicitly set eval_metric if you'd like to restore the old behavior.\n"
     ]
    },
    {
     "data": {
      "text/plain": [
       "GridSearchCV(cv=3,\n",
       "             estimator=XGBClassifier(base_score=None, booster=None,\n",
       "                                     colsample_bylevel=None,\n",
       "                                     colsample_bynode=None,\n",
       "                                     colsample_bytree=None, gamma=None,\n",
       "                                     gpu_id=None, importance_type='gain',\n",
       "                                     interaction_constraints=None,\n",
       "                                     learning_rate=None, max_delta_step=None,\n",
       "                                     max_depth=2, min_child_weight=None,\n",
       "                                     missing=nan, monotone_constraints=None,\n",
       "                                     n_estimators=100, n_jobs=None,\n",
       "                                     num_parallel_tree=None, random_state=21,\n",
       "                                     reg_alpha=None, reg_lambda=None,\n",
       "                                     scale_pos_weight=None, subsample=None,\n",
       "                                     tree_method='gpu_hist',\n",
       "                                     validate_parameters=None, verbosity=None),\n",
       "             n_jobs=-1,\n",
       "             param_grid={'learning_rate': [0.1, 0.2, 0.3],\n",
       "                         'n_estimators': [1000]},\n",
       "             scoring='roc_auc', verbose=1)"
      ]
     },
     "execution_count": 51,
     "metadata": {},
     "output_type": "execute_result"
    }
   ],
   "source": [
    "xgb_model_smote.fit(x_train_smote, y_train_smote)"
   ]
  },
  {
   "cell_type": "code",
   "execution_count": 52,
   "metadata": {},
   "outputs": [
    {
     "data": {
      "text/html": [
       "<div>\n",
       "<style scoped>\n",
       "    .dataframe tbody tr th:only-of-type {\n",
       "        vertical-align: middle;\n",
       "    }\n",
       "\n",
       "    .dataframe tbody tr th {\n",
       "        vertical-align: top;\n",
       "    }\n",
       "\n",
       "    .dataframe thead th {\n",
       "        text-align: right;\n",
       "    }\n",
       "</style>\n",
       "<table border=\"1\" class=\"dataframe\">\n",
       "  <thead>\n",
       "    <tr style=\"text-align: right;\">\n",
       "      <th></th>\n",
       "      <th>mean_fit_time</th>\n",
       "      <th>std_fit_time</th>\n",
       "      <th>mean_score_time</th>\n",
       "      <th>std_score_time</th>\n",
       "      <th>param_learning_rate</th>\n",
       "      <th>param_n_estimators</th>\n",
       "      <th>params</th>\n",
       "      <th>split0_test_score</th>\n",
       "      <th>split1_test_score</th>\n",
       "      <th>split2_test_score</th>\n",
       "      <th>mean_test_score</th>\n",
       "      <th>std_test_score</th>\n",
       "      <th>rank_test_score</th>\n",
       "    </tr>\n",
       "  </thead>\n",
       "  <tbody>\n",
       "    <tr>\n",
       "      <th>0</th>\n",
       "      <td>54.275985</td>\n",
       "      <td>1.434978</td>\n",
       "      <td>1.165062</td>\n",
       "      <td>0.328376</td>\n",
       "      <td>0.1</td>\n",
       "      <td>1000</td>\n",
       "      <td>{'learning_rate': 0.1, 'n_estimators': 1000}</td>\n",
       "      <td>0.999961</td>\n",
       "      <td>0.999956</td>\n",
       "      <td>0.999956</td>\n",
       "      <td>0.999958</td>\n",
       "      <td>0.000002</td>\n",
       "      <td>3</td>\n",
       "    </tr>\n",
       "    <tr>\n",
       "      <th>1</th>\n",
       "      <td>54.985056</td>\n",
       "      <td>0.736854</td>\n",
       "      <td>0.910391</td>\n",
       "      <td>0.225451</td>\n",
       "      <td>0.2</td>\n",
       "      <td>1000</td>\n",
       "      <td>{'learning_rate': 0.2, 'n_estimators': 1000}</td>\n",
       "      <td>0.999983</td>\n",
       "      <td>0.999980</td>\n",
       "      <td>0.999986</td>\n",
       "      <td>0.999983</td>\n",
       "      <td>0.000002</td>\n",
       "      <td>2</td>\n",
       "    </tr>\n",
       "    <tr>\n",
       "      <th>2</th>\n",
       "      <td>37.305559</td>\n",
       "      <td>20.633978</td>\n",
       "      <td>1.166847</td>\n",
       "      <td>0.564290</td>\n",
       "      <td>0.3</td>\n",
       "      <td>1000</td>\n",
       "      <td>{'learning_rate': 0.3, 'n_estimators': 1000}</td>\n",
       "      <td>0.999986</td>\n",
       "      <td>0.999983</td>\n",
       "      <td>0.999991</td>\n",
       "      <td>0.999987</td>\n",
       "      <td>0.000003</td>\n",
       "      <td>1</td>\n",
       "    </tr>\n",
       "  </tbody>\n",
       "</table>\n",
       "</div>"
      ],
      "text/plain": [
       "   mean_fit_time  std_fit_time  mean_score_time  std_score_time  \\\n",
       "0      54.275985      1.434978         1.165062        0.328376   \n",
       "1      54.985056      0.736854         0.910391        0.225451   \n",
       "2      37.305559     20.633978         1.166847        0.564290   \n",
       "\n",
       "  param_learning_rate param_n_estimators  \\\n",
       "0                 0.1               1000   \n",
       "1                 0.2               1000   \n",
       "2                 0.3               1000   \n",
       "\n",
       "                                         params  split0_test_score  \\\n",
       "0  {'learning_rate': 0.1, 'n_estimators': 1000}           0.999961   \n",
       "1  {'learning_rate': 0.2, 'n_estimators': 1000}           0.999983   \n",
       "2  {'learning_rate': 0.3, 'n_estimators': 1000}           0.999986   \n",
       "\n",
       "   split1_test_score  split2_test_score  mean_test_score  std_test_score  \\\n",
       "0           0.999956           0.999956         0.999958        0.000002   \n",
       "1           0.999980           0.999986         0.999983        0.000002   \n",
       "2           0.999983           0.999991         0.999987        0.000003   \n",
       "\n",
       "   rank_test_score  \n",
       "0                3  \n",
       "1                2  \n",
       "2                1  "
      ]
     },
     "execution_count": 52,
     "metadata": {},
     "output_type": "execute_result"
    }
   ],
   "source": [
    "xgb_cv_smote = pd.DataFrame(xgb_model_smote.cv_results_)\n",
    "xgb_cv_smote"
   ]
  },
  {
   "cell_type": "code",
   "execution_count": 53,
   "metadata": {},
   "outputs": [
    {
     "name": "stdout",
     "output_type": "stream",
     "text": [
      "Best C: {'learning_rate': 0.3, 'n_estimators': 1000} Best score: 0.9999865042364462\n"
     ]
    }
   ],
   "source": [
    "# best params\n",
    "print('Best C:',xgb_model_smote.best_params_, 'Best score:', xgb_model_smote.best_score_)"
   ]
  },
  {
   "cell_type": "markdown",
   "metadata": {},
   "source": [
    "As we can see after using a balanced data the ROC AUC score imporves"
   ]
  },
  {
   "cell_type": "code",
   "execution_count": 54,
   "metadata": {},
   "outputs": [
    {
     "data": {
      "text/plain": [
       "0.9806012249967602"
      ]
     },
     "execution_count": 54,
     "metadata": {},
     "output_type": "execute_result"
    }
   ],
   "source": [
    "# predict on test data\n",
    "\n",
    "# logistic regression\n",
    "logistic_test_score_smote = roc_auc_score(y_test,logistic_model_smote.predict_proba(x_test)[:, 1])\n",
    "logistic_test_score_smote"
   ]
  },
  {
   "cell_type": "code",
   "execution_count": 55,
   "metadata": {},
   "outputs": [
    {
     "data": {
      "text/plain": [
       "0.9872519034986492"
      ]
     },
     "execution_count": 55,
     "metadata": {},
     "output_type": "execute_result"
    }
   ],
   "source": [
    "# random forest\n",
    "rf_test_score_smote = roc_auc_score(y_test,rf_model_smote.predict_proba(x_test)[:, 1])\n",
    "rf_test_score_smote"
   ]
  },
  {
   "cell_type": "code",
   "execution_count": 56,
   "metadata": {},
   "outputs": [
    {
     "data": {
      "text/plain": [
       "0.9809216059492717"
      ]
     },
     "execution_count": 56,
     "metadata": {},
     "output_type": "execute_result"
    }
   ],
   "source": [
    "# xgboost\n",
    "xgb_test_score_smote = roc_auc_score(y_test,xgb_model_smote.predict_proba(x_test)[:, 1])\n",
    "xgb_test_score_smote"
   ]
  },
  {
   "cell_type": "markdown",
   "metadata": {},
   "source": [
    "SMOTE with Random Forest gives the best ROC AUC score of 98.72 on the test data."
   ]
  },
  {
   "cell_type": "code",
   "execution_count": 63,
   "metadata": {},
   "outputs": [],
   "source": [
    "# find out the threshold\n",
    "from sklearn.metrics import roc_curve\n",
    "\n",
    "fpr, tpr, thresholds = roc_curve(y_train_smote,rf_model_smote.predict_proba(x_train_smote)[:, 1])"
   ]
  },
  {
   "cell_type": "code",
   "execution_count": 64,
   "metadata": {},
   "outputs": [
    {
     "name": "stdout",
     "output_type": "stream",
     "text": [
      "0.889\n"
     ]
    }
   ],
   "source": [
    "threshold = thresholds[np.argmax(tpr-fpr)]\n",
    "print(threshold)"
   ]
  },
  {
   "cell_type": "code",
   "execution_count": 65,
   "metadata": {},
   "outputs": [
    {
     "data": {
      "text/plain": [
       "<sklearn.metrics._plot.roc_curve.RocCurveDisplay at 0x1896b9b0408>"
      ]
     },
     "execution_count": 65,
     "metadata": {},
     "output_type": "execute_result"
    },
    {
     "data": {
      "image/png": "[encoded data removed]",
      "text/plain": [
       "<Figure size 432x288 with 1 Axes>"
      ]
     },
     "metadata": {
      "needs_background": "light"
     },
     "output_type": "display_data"
    }
   ],
   "source": [
    "from sklearn.metrics import plot_roc_curve\n",
    "\n",
    "plot_roc_curve(rf_model_smote.best_estimator_, x_train_smote, y_train_smote)"
   ]
  },
  {
   "cell_type": "code",
   "execution_count": null,
   "metadata": {},
   "outputs": [],
   "source": []
  }
 ],
 "metadata": {
  "kernelspec": {
   "display_name": "Python 3",
   "language": "python",
   "name": "python3"
  },
  "language_info": {
   "codemirror_mode": {
    "name": "ipython",
    "version": 3
   },
   "file_extension": ".py",
   "mimetype": "text/x-python",
   "name": "python",
   "nbconvert_exporter": "python",
   "pygments_lexer": "ipython3",
   "version": "3.7.9"
  }
 },
 "nbformat": 4,
 "nbformat_minor": 4
}
